{
  "nbformat": 4,
  "nbformat_minor": 0,
  "metadata": {
    "colab": {
      "provenance": [],
      "authorship_tag": "ABX9TyMB7Wy/kCJ5+XjryDxOhdYb",
      "include_colab_link": true
    },
    "kernelspec": {
      "name": "python3",
      "display_name": "Python 3"
    },
    "language_info": {
      "name": "python"
    }
  },
  "cells": [
    {
      "cell_type": "markdown",
      "metadata": {
        "id": "view-in-github",
        "colab_type": "text"
      },
      "source": [
        "<a href=\"https://colab.research.google.com/github/salsabilfatimah/python-essentials/blob/main/sum_of_prime_numbers_.ipynb\" target=\"_parent\"><img src=\"https://colab.research.google.com/assets/colab-badge.svg\" alt=\"Open In Colab\"/></a>"
      ]
    },
    {
      "cell_type": "code",
      "execution_count": 10,
      "metadata": {
        "colab": {
          "base_uri": "https://localhost:8080/"
        },
        "id": "158rTYKBn95Z",
        "outputId": "1e96f75a-93a6-48e2-e414-8229e86cd1f5"
      },
      "outputs": [
        {
          "output_type": "stream",
          "name": "stdout",
          "text": [
            "enter the last number up till which sum of is to be found:9\n",
            "The sum of prime numbers from 1 to  9  is : 15\n"
          ]
        }
      ],
      "source": [
        "num= int(input(\"enter the last number up till which sum of is to be found:\"))\n",
        "sum = 0\n",
        "for number in range(2, num + 1):\n",
        "    i = 2\n",
        "    for i in range(2, number):\n",
        "        if (int(number % i) == 0):\n",
        "            i = number\n",
        "            break;\n",
        "    if i is not number:\n",
        "        sum = sum + number\n",
        "print(\"The sum of prime numbers from 1 to \", num, \" is :\", sum)"
      ]
    }
  ]
}