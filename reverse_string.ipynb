{
  "nbformat": 4,
  "nbformat_minor": 0,
  "metadata": {
    "colab": {
      "provenance": [],
      "authorship_tag": "ABX9TyPq+lXWSG7bv0yPd95z7lY9",
      "include_colab_link": true
    },
    "kernelspec": {
      "name": "python3",
      "display_name": "Python 3"
    },
    "language_info": {
      "name": "python"
    }
  },
  "cells": [
    {
      "cell_type": "markdown",
      "metadata": {
        "id": "view-in-github",
        "colab_type": "text"
      },
      "source": [
        "<a href=\"https://colab.research.google.com/github/salsabilfatimah/python-essentials/blob/main/reverse_string.ipynb\" target=\"_parent\"><img src=\"https://colab.research.google.com/assets/colab-badge.svg\" alt=\"Open In Colab\"/></a>"
      ]
    },
    {
      "cell_type": "code",
      "execution_count": 3,
      "metadata": {
        "colab": {
          "base_uri": "https://localhost:8080/"
        },
        "id": "uZG8EYuIA5ax",
        "outputId": "d5b0c760-a83f-4f07-f450-6bfc21569b83"
      },
      "outputs": [
        {
          "output_type": "stream",
          "name": "stdout",
          "text": [
            "enter a stringhello\n",
            "The original string is : hello\n",
            "The reversed string is : olleh\n"
          ]
        }
      ],
      "source": [
        "def reverse(s):\n",
        "    str = \"\"\n",
        "    for i in s:\n",
        "        str = i + str\n",
        "    return str\n",
        "\n",
        "s=str(input(\"enter a string\"))\n",
        "\n",
        "print(\"The original string is : \", end=\"\")\n",
        "print(s)\n",
        "\n",
        "print(\"The reversed string is : \", end=\"\")\n",
        "print(reverse(s))"
      ]
    }
  ]
}