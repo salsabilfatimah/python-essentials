{
  "nbformat": 4,
  "nbformat_minor": 0,
  "metadata": {
    "colab": {
      "provenance": [],
      "authorship_tag": "ABX9TyOAkv6httkqL2RlL64yFapc",
      "include_colab_link": true
    },
    "kernelspec": {
      "name": "python3",
      "display_name": "Python 3"
    },
    "language_info": {
      "name": "python"
    }
  },
  "cells": [
    {
      "cell_type": "markdown",
      "metadata": {
        "id": "view-in-github",
        "colab_type": "text"
      },
      "source": [
        "<a href=\"https://colab.research.google.com/github/salsabilfatimah/python-essentials/blob/main/basic_calculator_.ipynb\" target=\"_parent\"><img src=\"https://colab.research.google.com/assets/colab-badge.svg\" alt=\"Open In Colab\"/></a>"
      ]
    },
    {
      "cell_type": "code",
      "execution_count": null,
      "metadata": {
        "id": "DViOSyNKC3x3"
      },
      "outputs": [],
      "source": [
        "a = int(input(\"Enter a number:\"))\n",
        "b = int(input(\"Enter a number:\"))\n",
        "op = input(\"Enter your operator:\")\n",
        "\n",
        "if op == \"+\":\n",
        "  print(a+b)\n",
        "elif op == \"-\":\n",
        "  print(a-b)\n",
        "elif op == \"*\":\n",
        "  print(a*b)\n",
        "elif op == \"/\":\n",
        "  print(a/b)\n",
        "else:\n",
        "  print(\" operator_error \")"
      ]
    }
  ]
}