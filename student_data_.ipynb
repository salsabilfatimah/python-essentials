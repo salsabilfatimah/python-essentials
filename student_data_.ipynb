{
  "nbformat": 4,
  "nbformat_minor": 0,
  "metadata": {
    "colab": {
      "provenance": [],
      "authorship_tag": "ABX9TyPhVUlgzoBj19Ck358pYiW2",
      "include_colab_link": true
    },
    "kernelspec": {
      "name": "python3",
      "display_name": "Python 3"
    },
    "language_info": {
      "name": "python"
    }
  },
  "cells": [
    {
      "cell_type": "markdown",
      "metadata": {
        "id": "view-in-github",
        "colab_type": "text"
      },
      "source": [
        "<a href=\"https://colab.research.google.com/github/salsabilfatimah/python-essentials/blob/main/student_data_.ipynb\" target=\"_parent\"><img src=\"https://colab.research.google.com/assets/colab-badge.svg\" alt=\"Open In Colab\"/></a>"
      ]
    },
    {
      "cell_type": "code",
      "execution_count": 9,
      "metadata": {
        "colab": {
          "base_uri": "https://localhost:8080/"
        },
        "id": "pBPDQ0b-XcHA",
        "outputId": "6720bd82-69e5-4c00-e09a-1403bae84a0d"
      },
      "outputs": [
        {
          "output_type": "stream",
          "name": "stdout",
          "text": [
            "{'name': 'John Doe', 'age': 21, 'major': 'Physics', 'university': 'XYZ University', 'email': 'john.doe@example.com'}\n",
            "{'name': 'John Doe', 'age': 21, 'university': 'XYZ University', 'email': 'john.doe@example.com'}\n",
            "False\n"
          ]
        }
      ],
      "source": [
        "student = {\n",
        "    'name': 'John Doe',\n",
        "    'age': 21,\n",
        "    'major': 'Physics',\n",
        "    'university': 'XYZ University'\n",
        "}\n",
        "# Adding a new key-value pair\n",
        "student['email'] = 'john.doe@example.com'\n",
        "print(student)\n",
        "\n",
        "# Removing a key-value pair\n",
        "del student['major']\n",
        "print(student)\n",
        "\n",
        "# # Checking if a key exists in the dictionary\n",
        "print('phone' in student)"
      ]
    }
  ]
}