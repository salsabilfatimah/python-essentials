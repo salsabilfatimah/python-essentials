{
  "nbformat": 4,
  "nbformat_minor": 0,
  "metadata": {
    "colab": {
      "provenance": [],
      "authorship_tag": "ABX9TyOGC56xpvr++7nOJsmxAkZ1",
      "include_colab_link": true
    },
    "kernelspec": {
      "name": "python3",
      "display_name": "Python 3"
    },
    "language_info": {
      "name": "python"
    }
  },
  "cells": [
    {
      "cell_type": "markdown",
      "metadata": {
        "id": "view-in-github",
        "colab_type": "text"
      },
      "source": [
        "<a href=\"https://colab.research.google.com/github/salsabilfatimah/python-essentials/blob/main/print_even_numbers.ipynb\" target=\"_parent\"><img src=\"https://colab.research.google.com/assets/colab-badge.svg\" alt=\"Open In Colab\"/></a>"
      ]
    },
    {
      "cell_type": "code",
      "execution_count": 15,
      "metadata": {
        "colab": {
          "base_uri": "https://localhost:8080/"
        },
        "id": "Z8wkziy9EcoE",
        "outputId": "a5af94e2-7d0f-4f06-8260-2fd06c001397"
      },
      "outputs": [
        {
          "output_type": "stream",
          "name": "stdout",
          "text": [
            "[1, 0, 1, 0, 1, 0, 0, 0, 1]\n"
          ]
        }
      ],
      "source": [
        "numbers = [1, 2, 3, 4, 5, 6, 8, 10, 11]\n",
        "even_numbers = [ x%2 for x in numbers]\n",
        "print(even_numbers)\n",
        "\n",
        "#def even(lst):\n",
        "  #  for num in lst:\n",
        "     #   if num %2 == 0:\n",
        "        #    return num\n",
        "\n",
        "#numbers = [1, 2, 3, 4, 5]\n",
        "\n",
        "#squared_numbers = [x**2 for x in numbers]\n",
        "#print(squared_numbers)\n",
        "\n"
      ]
    }
  ]
}