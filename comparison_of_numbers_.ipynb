{
  "nbformat": 4,
  "nbformat_minor": 0,
  "metadata": {
    "colab": {
      "provenance": [],
      "authorship_tag": "ABX9TyO7A/uCzfyUHufveQVYSfMR",
      "include_colab_link": true
    },
    "kernelspec": {
      "name": "python3",
      "display_name": "Python 3"
    },
    "language_info": {
      "name": "python"
    }
  },
  "cells": [
    {
      "cell_type": "markdown",
      "metadata": {
        "id": "view-in-github",
        "colab_type": "text"
      },
      "source": [
        "<a href=\"https://colab.research.google.com/github/salsabilfatimah/python-essentials/blob/main/comparison_of_numbers_.ipynb\" target=\"_parent\"><img src=\"https://colab.research.google.com/assets/colab-badge.svg\" alt=\"Open In Colab\"/></a>"
      ]
    },
    {
      "cell_type": "code",
      "execution_count": 1,
      "metadata": {
        "colab": {
          "base_uri": "https://localhost:8080/"
        },
        "id": "v_D177PXGZqg",
        "outputId": "fb44187d-1428-44b7-ec17-b6adb2fa86b4"
      },
      "outputs": [
        {
          "output_type": "stream",
          "name": "stdout",
          "text": [
            "Enter an integer: 789\n",
            "The integer is greater than 100.\n"
          ]
        }
      ],
      "source": [
        "\n",
        "a = int(input(\"Enter an integer: \"))\n",
        "\n",
        "if a > 0:\n",
        "  if a > 100:\n",
        "    print(\"The integer is greater than 100.\")\n",
        "  else:\n",
        "    print(\"The given integer is positive.\")\n",
        "elif a < 0:\n",
        "  if a < -100:\n",
        "    print(\"The integer is less than 100.\")\n",
        "  else:\n",
        "    print(\"The integer is negative.\")\n",
        "elif a == 0:\n",
        "  print(\"The number is ZERO\")"
      ]
    }
  ]
}