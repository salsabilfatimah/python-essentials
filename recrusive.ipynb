{
  "nbformat": 4,
  "nbformat_minor": 0,
  "metadata": {
    "colab": {
      "provenance": [],
      "authorship_tag": "ABX9TyOX8SaaYZlWbBR8QuV8IGc/",
      "include_colab_link": true
    },
    "kernelspec": {
      "name": "python3",
      "display_name": "Python 3"
    },
    "language_info": {
      "name": "python"
    }
  },
  "cells": [
    {
      "cell_type": "markdown",
      "metadata": {
        "id": "view-in-github",
        "colab_type": "text"
      },
      "source": [
        "<a href=\"https://colab.research.google.com/github/salsabilfatimah/python-essentials/blob/main/recrusive.ipynb\" target=\"_parent\"><img src=\"https://colab.research.google.com/assets/colab-badge.svg\" alt=\"Open In Colab\"/></a>"
      ]
    },
    {
      "cell_type": "code",
      "execution_count": 15,
      "metadata": {
        "id": "joMPRYuw0CE7",
        "colab": {
          "base_uri": "https://localhost:8080/"
        },
        "outputId": "6c66ed8e-9ab9-4953-f26c-1a3d8f16f641"
      },
      "outputs": [
        {
          "output_type": "stream",
          "name": "stdout",
          "text": [
            "* * * * * * * * * \n",
            "* * * * * * * * \n",
            "* * * * * * * \n",
            "* * * * * * \n",
            "* * * * * \n",
            "* * * * \n",
            "* * * \n",
            "* * \n",
            "* \n"
          ]
        }
      ],
      "source": [
        "def printPatternRowRecur(n):\n",
        "    if (n < 1):\n",
        "        return\n",
        "    print(\"*\", end = \" \")\n",
        "    printPatternRowRecur(n - 1)\n",
        "\n",
        "def printPatternRecur(n):\n",
        "    if (n < 1):\n",
        "        return\n",
        "    printPatternRowRecur(n)\n",
        "    print(\"\")\n",
        "    printPatternRecur(n - 1)\n",
        "n = 9\n",
        "printPatternRecur(n)"
      ]
    }
  ]
}