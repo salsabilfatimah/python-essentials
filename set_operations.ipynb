{
  "nbformat": 4,
  "nbformat_minor": 0,
  "metadata": {
    "colab": {
      "provenance": [],
      "authorship_tag": "ABX9TyMyrpWfXbiXlkciAsGi3rZ8",
      "include_colab_link": true
    },
    "kernelspec": {
      "name": "python3",
      "display_name": "Python 3"
    },
    "language_info": {
      "name": "python"
    }
  },
  "cells": [
    {
      "cell_type": "markdown",
      "metadata": {
        "id": "view-in-github",
        "colab_type": "text"
      },
      "source": [
        "<a href=\"https://colab.research.google.com/github/salsabilfatimah/python-essentials/blob/main/set_operations.ipynb\" target=\"_parent\"><img src=\"https://colab.research.google.com/assets/colab-badge.svg\" alt=\"Open In Colab\"/></a>"
      ]
    },
    {
      "cell_type": "code",
      "execution_count": 6,
      "metadata": {
        "colab": {
          "base_uri": "https://localhost:8080/"
        },
        "id": "cjdPWNAzSNC-",
        "outputId": "b3404f7d-7697-4f85-f3b1-22e743eb0731"
      },
      "outputs": [
        {
          "output_type": "stream",
          "name": "stdout",
          "text": [
            "{1, 2, 3, 4, 5, 6, 7}\n",
            "{3, 4, 5}\n",
            "{1, 2}\n",
            "False\n"
          ]
        }
      ],
      "source": [
        "# Set union\n",
        "set1 = {1, 2, 3, 4, 5}\n",
        "set2 = {3, 4, 5, 6, 7}\n",
        "union_set = set1 | set2\n",
        "print(union_set)\n",
        "\n",
        "# Set intersection\n",
        "intersection_set = set1 & set2\n",
        "print(intersection_set)\n",
        "\n",
        "# Set differnce\n",
        "difference_set = set1 - set2\n",
        "print(difference_set)\n",
        "\n",
        "print(set1.issubset(set2))\n",
        "\n",
        "\n",
        "\n",
        "\n"
      ]
    }
  ]
}