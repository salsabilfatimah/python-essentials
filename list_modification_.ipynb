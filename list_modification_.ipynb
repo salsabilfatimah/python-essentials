{
  "nbformat": 4,
  "nbformat_minor": 0,
  "metadata": {
    "colab": {
      "provenance": [],
      "authorship_tag": "ABX9TyNy6gYUyV5LpGQ2dD5NrOsX",
      "include_colab_link": true
    },
    "kernelspec": {
      "name": "python3",
      "display_name": "Python 3"
    },
    "language_info": {
      "name": "python"
    }
  },
  "cells": [
    {
      "cell_type": "markdown",
      "metadata": {
        "id": "view-in-github",
        "colab_type": "text"
      },
      "source": [
        "<a href=\"https://colab.research.google.com/github/salsabilfatimah/python-essentials/blob/main/list_modification_.ipynb\" target=\"_parent\"><img src=\"https://colab.research.google.com/assets/colab-badge.svg\" alt=\"Open In Colab\"/></a>"
      ]
    },
    {
      "cell_type": "code",
      "execution_count": 9,
      "metadata": {
        "colab": {
          "base_uri": "https://localhost:8080/"
        },
        "id": "ZvKH7l1AO0WV",
        "outputId": "70289fb5-0115-4517-f214-f04112c09988"
      },
      "outputs": [
        {
          "output_type": "stream",
          "name": "stdout",
          "text": [
            "9\n",
            "[1, 2, 3, 4, 5, 6, 7, 8, 9, '10']\n",
            "['0', 1, 2, 3, 4, 5, 6, 7, 8, 9, '10']\n",
            "['0', 1, 2, 3, 4, 6, 7, 8, 9, '10']\n",
            "10\n"
          ]
        }
      ],
      "source": [
        "numbers = [1, 2, 3, 4, 5, 6, 7, 8, 9]\n",
        "# Length of a list\n",
        "print(len(numbers))\n",
        "\n",
        "# Adding elements to the end of the list\n",
        "numbers.append('10')\n",
        "print(numbers)\n",
        "\n",
        "# Inserting an element at a specific index\n",
        "numbers.insert(0, '0')\n",
        "print(numbers)\n",
        "\n",
        "# Removing an element by value\n",
        "numbers.remove(5)\n",
        "print(numbers)\n",
        "\n",
        "# Length of a list\n",
        "print(len(numbers))\n"
      ]
    }
  ]
}