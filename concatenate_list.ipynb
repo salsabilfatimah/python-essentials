{
  "nbformat": 4,
  "nbformat_minor": 0,
  "metadata": {
    "colab": {
      "provenance": [],
      "authorship_tag": "ABX9TyMSRcFfybjE8pQ4eTwB5YUo",
      "include_colab_link": true
    },
    "kernelspec": {
      "name": "python3",
      "display_name": "Python 3"
    },
    "language_info": {
      "name": "python"
    }
  },
  "cells": [
    {
      "cell_type": "markdown",
      "metadata": {
        "id": "view-in-github",
        "colab_type": "text"
      },
      "source": [
        "<a href=\"https://colab.research.google.com/github/salsabilfatimah/python-essentials/blob/main/concatenate_list.ipynb\" target=\"_parent\"><img src=\"https://colab.research.google.com/assets/colab-badge.svg\" alt=\"Open In Colab\"/></a>"
      ]
    },
    {
      "cell_type": "code",
      "execution_count": 7,
      "metadata": {
        "colab": {
          "base_uri": "https://localhost:8080/"
        },
        "id": "bZb6r0TMMkJB",
        "outputId": "5f95c779-fe72-440a-bd35-555789f319a4"
      },
      "outputs": [
        {
          "output_type": "stream",
          "name": "stdout",
          "text": [
            "[1, 2, 3, 4, 5, 6, 7, 8, 9, 0]\n"
          ]
        }
      ],
      "source": [
        "\n",
        "l1 = [1,2,3,4,5]\n",
        "l2 = [6,7,8,9,0]\n",
        "\n",
        "concatenated_list = l1 + l2\n",
        "print(concatenated_list)\n",
        ""
      ]
    }
  ]
}